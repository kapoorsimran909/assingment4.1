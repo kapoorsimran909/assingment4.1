{
 "cells": [
  {
   "cell_type": "code",
   "execution_count": 1,
   "id": "77423dc8-2d6a-4e5a-805a-393a5681f83c",
   "metadata": {},
   "outputs": [],
   "source": [
    "ques no 1.\n",
    "class vehicle :\n",
    "    def __init__( name_of_vehicle , max_speed , average_of_vehicle ):\n",
    "        self.name_of_vehicle = name_of_vehicle\n",
    "        self.max_speed = max_speed\n",
    "        self.average_of_vehicle = average_of_vehicle\n",
    "        \n",
    "    def return_vehicle_details(self):\n",
    "        return self.name_of_vehicle , self.max_speed , self.average_of_vehicle"
   ]
  },
  {
   "cell_type": "code",
   "execution_count": null,
   "id": "6893015f-c797-43b1-b829-01c8bb3a5b1a",
   "metadata": {},
   "outputs": [],
   "source": [
    "ques no 2.\n",
    "class car(vehicle):\n",
    "    def seating_capacity(self):\n",
    "        return \"it will return the name of vehicle and its seating capacity\""
   ]
  },
  {
   "cell_type": "code",
   "execution_count": null,
   "id": "ecee29c7-731e-42e5-b39f-7c1808211fe1",
   "metadata": {},
   "outputs": [],
   "source": [
    "ques no 3.\n",
    "multiple inheritance is a inheritance that inherited multiple parent class in a child class."
   ]
  },
  {
   "cell_type": "code",
   "execution_count": null,
   "id": "907491f7-ddc0-4ec9-b3f8-3ab7e30e0c4c",
   "metadata": {},
   "outputs": [],
   "source": [
    "class class1:\n",
    "    \n",
    "    def test_class1(self) :\n",
    "        return \"this is a class1\""
   ]
  },
  {
   "cell_type": "code",
   "execution_count": null,
   "id": "fc6641db-ecdf-42a7-a935-8fd584cadb5a",
   "metadata": {},
   "outputs": [],
   "source": [
    "class class2:\n",
    "    \n",
    "    def test_class2(self) :\n",
    "        return \"this is a class2\""
   ]
  },
  {
   "cell_type": "code",
   "execution_count": null,
   "id": "b7a5b971-c230-495c-b509-96d17dab00d1",
   "metadata": {},
   "outputs": [],
   "source": [
    "class class3 (class1 , class2) :\n",
    "    pass"
   ]
  },
  {
   "cell_type": "code",
   "execution_count": null,
   "id": "6496b4cc-19be-42e2-93b6-de167f08d5f4",
   "metadata": {},
   "outputs": [],
   "source": [
    "obj_class3 = class3()"
   ]
  },
  {
   "cell_type": "code",
   "execution_count": null,
   "id": "3c627c1b-3934-49de-ba1c-c1a32f6d9d77",
   "metadata": {},
   "outputs": [],
   "source": [
    "obj_class3.test_class1()"
   ]
  },
  {
   "cell_type": "code",
   "execution_count": null,
   "id": "6987f1a5-b8a3-4923-8fbc-54a8ba538ba4",
   "metadata": {},
   "outputs": [],
   "source": [
    "obj_class3.test_class2()"
   ]
  },
  {
   "cell_type": "code",
   "execution_count": null,
   "id": "197d4e6a-9057-40eb-9f94-75f94b5b832c",
   "metadata": {},
   "outputs": [],
   "source": [
    "ques no 4.\n",
    "getter is a method that allows you to access an attribute in a given class and\n",
    "setter is a method that allows you to set or mutate the value of an attribute in a class"
   ]
  },
  {
   "cell_type": "code",
   "execution_count": null,
   "id": "7e82f6a2-7a16-4ffe-8e64-3bc1723bc588",
   "metadata": {},
   "outputs": [],
   "source": [
    "class test :\n",
    "    def getter (self):\n",
    "        return \"it will return attribute in a given class\"\n",
    "    def setter (self):\n",
    "        return :\"it will return attribute in a given class which is set or mutate\""
   ]
  },
  {
   "cell_type": "code",
   "execution_count": null,
   "id": "7d011266-528a-4df0-b669-d5ad1ed18bf2",
   "metadata": {},
   "outputs": [],
   "source": [
    "ques no 5.\n",
    "method overriding is a very important feature of the python language \n",
    "it allows you to override methods of existing classes or modules,\n",
    "without having to create a new class or module."
   ]
  }
 ],
 "metadata": {
  "kernelspec": {
   "display_name": "Python 3 (ipykernel)",
   "language": "python",
   "name": "python3"
  },
  "language_info": {
   "codemirror_mode": {
    "name": "ipython",
    "version": 3
   },
   "file_extension": ".py",
   "mimetype": "text/x-python",
   "name": "python",
   "nbconvert_exporter": "python",
   "pygments_lexer": "ipython3",
   "version": "3.10.8"
  }
 },
 "nbformat": 4,
 "nbformat_minor": 5
}
